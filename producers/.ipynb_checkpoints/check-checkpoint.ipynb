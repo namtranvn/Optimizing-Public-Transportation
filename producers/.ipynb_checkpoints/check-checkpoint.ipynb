{
 "cells": [
  {
   "cell_type": "code",
   "execution_count": 1,
   "id": "1550faef",
   "metadata": {},
   "outputs": [],
   "source": [
    "import json\n",
    "import logging\n",
    "\n",
    "import requests\n",
    "\n",
    "\n",
    "logger = logging.getLogger(__name__)\n",
    "\n",
    "\n",
    "KAFKA_CONNECT_URL = \"http://localhost:8083/connectors\"\n",
    "CONNECTOR_NAME = \"station\""
   ]
  },
  {
   "cell_type": "code",
   "execution_count": 5,
   "id": "3406dd9e",
   "metadata": {},
   "outputs": [],
   "source": [
    "resp = requests.get(f\"{KAFKA_CONNECT_URL}/{CONNECTOR_NAME}\")"
   ]
  },
  {
   "cell_type": "code",
   "execution_count": 6,
   "id": "91398929",
   "metadata": {},
   "outputs": [
    {
     "data": {
      "text/plain": [
       "404"
      ]
     },
     "execution_count": 6,
     "metadata": {},
     "output_type": "execute_result"
    }
   ],
   "source": [
    "resp.status_code"
   ]
  },
  {
   "cell_type": "code",
   "execution_count": 9,
   "id": "2fbd3b06",
   "metadata": {},
   "outputs": [],
   "source": [
    "resp = requests.post(\n",
    "       KAFKA_CONNECT_URL,\n",
    "       headers={\"Content-Type\": \"application/json\"},\n",
    "       data=json.dumps({\n",
    "           \"name\": CONNECTOR_NAME,\n",
    "           \"config\": {\n",
    "               \"connector.class\": \"io.confluent.connect.jdbc.JdbcSourceConnector\",\n",
    "               \"key.converter\": \"org.apache.kafka.connect.json.JsonConverter\",\n",
    "               \"key.converter.schemas.enable\": \"false\",\n",
    "               \"value.converter\": \"org.apache.kafka.connect.json.JsonConverter\",\n",
    "               \"value.converter.schemas.enable\": \"false\",\n",
    "               \"batch.max.rows\": \"500\",\n",
    "               \"connection.url\": \"jdbc:postgresql://postgres:5432/cta\",\n",
    "               \"connection.user\": \"cta_admin\",\n",
    "               \"connection.password\": \"chicago\",\n",
    "               \"table.whitelist\": \"stations\",\n",
    "               \"mode\": \"incrementing\",\n",
    "               \"incrementing.column.name\": \"stop_id\",\n",
    "               \"topic.prefix\": \"postgres_conn_\",\n",
    "               \"poll.interval.ms\": \"10000\",\n",
    "           }\n",
    "       }),\n",
    "    )"
   ]
  },
  {
   "cell_type": "code",
   "execution_count": null,
   "id": "6965a511",
   "metadata": {},
   "outputs": [],
   "source": []
  },
  {
   "cell_type": "code",
   "execution_count": 10,
   "id": "088a7ea4",
   "metadata": {},
   "outputs": [
    {
     "data": {
      "text/plain": [
       "400"
      ]
     },
     "execution_count": 10,
     "metadata": {},
     "output_type": "execute_result"
    }
   ],
   "source": [
    "resp.status_code"
   ]
  },
  {
   "cell_type": "code",
   "execution_count": 2,
   "id": "08465e0e",
   "metadata": {},
   "outputs": [],
   "source": [
    "from psycopg import connect"
   ]
  },
  {
   "cell_type": "code",
   "execution_count": 3,
   "id": "5c26ba8e",
   "metadata": {},
   "outputs": [],
   "source": [
    "conn = connect(\n",
    "    dbname = \"cta\",\n",
    "    user = \"cta_admin\",\n",
    "    host = \"localhost\",\n",
    "    password = \"chicago\"\n",
    ")"
   ]
  },
  {
   "cell_type": "code",
   "execution_count": 4,
   "id": "71b1ca1a",
   "metadata": {},
   "outputs": [],
   "source": [
    "cursor = conn.cursor()"
   ]
  },
  {
   "cell_type": "code",
   "execution_count": null,
   "id": "e59acf92",
   "metadata": {},
   "outputs": [],
   "source": []
  }
 ],
 "metadata": {
  "kernelspec": {
   "display_name": "Python 3 (ipykernel)",
   "language": "python",
   "name": "python3"
  },
  "language_info": {
   "codemirror_mode": {
    "name": "ipython",
    "version": 3
   },
   "file_extension": ".py",
   "mimetype": "text/x-python",
   "name": "python",
   "nbconvert_exporter": "python",
   "pygments_lexer": "ipython3",
   "version": "3.7.17"
  }
 },
 "nbformat": 4,
 "nbformat_minor": 5
}
